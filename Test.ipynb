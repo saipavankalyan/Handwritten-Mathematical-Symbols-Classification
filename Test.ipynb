{
 "cells": [
  {
   "cell_type": "code",
   "execution_count": 4,
   "id": "88a7d136-da61-43ee-b2a8-86ac8fafa258",
   "metadata": {
    "id": "88a7d136-da61-43ee-b2a8-86ac8fafa258"
   },
   "outputs": [],
   "source": [
    "import torch\n",
    "import torchvision\n",
    "from torch.utils.data import Dataset\n",
    "from torchvision import datasets, transforms"
   ]
  },
  {
   "cell_type": "code",
   "execution_count": 5,
   "id": "b9c5368d-e2f3-42c7-82ec-6c6dc46be434",
   "metadata": {
    "id": "b9c5368d-e2f3-42c7-82ec-6c6dc46be434"
   },
   "outputs": [],
   "source": [
    "device = torch.device(\"cuda:0\" if torch.cuda.is_available() else \"cpu\")"
   ]
  },
  {
   "cell_type": "code",
   "execution_count": 6,
   "id": "c41eedbf-1454-4502-9634-62a1c1a1aef7",
   "metadata": {
    "id": "c41eedbf-1454-4502-9634-62a1c1a1aef7"
   },
   "outputs": [],
   "source": [
    "import numpy as np\n",
    "import matplotlib.pyplot as plt\n",
    "from sklearn.metrics import accuracy_score\n",
    "import collections\n",
    "from PIL import Image\n",
    "import cv2\n",
    "import os\n",
    "import warnings\n",
    "plt.style.use('bmh')\n",
    "warnings.filterwarnings('ignore')"
   ]
  },
  {
   "cell_type": "code",
   "source": [
    "img_arr =\"data_test.npy\"\n",
    "lab_arr=\"t_test.npy\""
   ],
   "metadata": {
    "id": "DO7q_ZrTRBdR"
   },
   "id": "DO7q_ZrTRBdR",
   "execution_count": 7,
   "outputs": []
  },
  {
   "cell_type": "code",
   "source": [
    "def file_read(X,fn):\n",
    "  a,b=X.shape[0],X.shape[1]\n",
    "  if b>a:\n",
    "    X = np.load(fn)\n",
    "  else:\n",
    "    X = np.load(fn).T\n",
    "  return X\n"
   ],
   "metadata": {
    "id": "SQ4qH-7hdSg_"
   },
   "id": "SQ4qH-7hdSg_",
   "execution_count": 8,
   "outputs": []
  },
  {
   "cell_type": "code",
   "execution_count": 9,
   "id": "7550fde4-19b1-4147-9c9a-090ac9355f16",
   "metadata": {
    "id": "7550fde4-19b1-4147-9c9a-090ac9355f16",
    "outputId": "848ba2fd-3c88-493d-e4e9-0a34b4322a88",
    "colab": {
     "base_uri": "https://localhost:8080/"
    }
   },
   "outputs": [
    {
     "name": "stdout",
     "output_type": "stream",
     "text": [
      "(400, 90000) (400,)\n"
     ]
    }
   ],
   "source": [
    "X = np.load(img_arr)\n",
    "X = file_read(X,img_arr)\n",
    "T = np.load(lab_arr)\n",
    "\n",
    "print(X.shape, T.shape)"
   ]
  },
  {
   "cell_type": "code",
   "execution_count": 10,
   "id": "09a8c3e0-ab38-49b1-b1e6-d240ab71e4c3",
   "metadata": {
    "id": "09a8c3e0-ab38-49b1-b1e6-d240ab71e4c3"
   },
   "outputs": [],
   "source": [
    "img = []\n",
    "for i in X:\n",
    "    imag = np.reshape(i, (300, 300))\n",
    "    imag = Image.fromarray(imag)\n",
    "    imag = imag.resize((100, 100))\n",
    "    imag = np.array(imag)\n",
    "    img.append(imag)\n",
    "img = np.array(img)"
   ]
  },
  {
   "cell_type": "code",
   "execution_count": 11,
   "id": "bb578a86-0207-4ef6-83fb-561cec20e300",
   "metadata": {
    "id": "bb578a86-0207-4ef6-83fb-561cec20e300"
   },
   "outputs": [],
   "source": [
    "sh = X.shape[0]\n",
    "X = img.reshape(sh, 100 * 100)"
   ]
  },
  {
   "cell_type": "code",
   "source": [
    "def Label_preprocessing(X,t_train):\n",
    "  lst =np.where(t_train<0)[0]\n",
    "  x,t=[],[]\n",
    "  c=0\n",
    "  for i in range(len(t_train)):\n",
    "    if i in lst:\n",
    "      x.append(X[i])\n",
    "      t.append(int(10))\n",
    "      c+=1\n",
    "    else:\n",
    "      x.append(X[i])\n",
    "      t.append(t_train[i])\n",
    "  print(\"Total number of labels which were reassigned with a new label due to label assignment of -1\",c)\n",
    "  return np.array(x),np.array(t)"
   ],
   "metadata": {
    "id": "VyLWCbI2cIqE"
   },
   "id": "VyLWCbI2cIqE",
   "execution_count": 12,
   "outputs": []
  },
  {
   "cell_type": "code",
   "source": [
    "X,T=Label_preprocessing(X,T)"
   ],
   "metadata": {
    "colab": {
     "base_uri": "https://localhost:8080/"
    },
    "id": "CQ6v9DSVcJOW",
    "outputId": "383a67cc-7533-4801-ed95-3b1f1ec44993"
   },
   "id": "CQ6v9DSVcJOW",
   "execution_count": 13,
   "outputs": [
    {
     "name": "stdout",
     "output_type": "stream",
     "text": [
      "Total number of labels which were reassigned with a new label due to label assignment of -1 20\n"
     ]
    }
   ]
  },
  {
   "cell_type": "code",
   "execution_count": 14,
   "id": "7ff0703d-d978-44a5-a0e1-d58656b10c29",
   "metadata": {
    "id": "7ff0703d-d978-44a5-a0e1-d58656b10c29"
   },
   "outputs": [],
   "source": [
    "def folder_structure(arr):\n",
    "    ls1 = ['test']\n",
    "    ls2 = ['x', 'sqaure root', 'plus sign', 'negative sign', 'equal', 'precent', 'partial', 'product', 'pi',\n",
    "           'summation','others']\n",
    "    fp1 = 'Data'\n",
    "    fp2 = 'math_symbols'\n",
    "    os.mkdir(fp1)\n",
    "    if os.path.exists(fp1) == True:\n",
    "        train_dir = os.path.join(fp1, fp2)\n",
    "        os.mkdir(train_dir)\n",
    "        for i in range(len(ls1)):\n",
    "            train_dir = fp1 + '/' + fp2\n",
    "            train_dir = os.path.join(train_dir, ls1[i])\n",
    "            os.mkdir(train_dir)\n",
    "            for j in range(len(arr)):\n",
    "                train_dir = fp1 + '/' + fp2 + '/' + str(ls1[i])\n",
    "                train_dir = os.path.join(train_dir, ls2[arr[j]])\n",
    "                os.mkdir(train_dir)"
   ]
  },
  {
   "cell_type": "code",
   "execution_count": 15,
   "id": "1ad7ec1b-e43b-471e-a211-6cccf36e10cc",
   "metadata": {
    "id": "1ad7ec1b-e43b-471e-a211-6cccf36e10cc"
   },
   "outputs": [],
   "source": [
    "def folder_structure_cond(T):\n",
    "    pth = 'Data/math_symbols'\n",
    "    if os.path.exists(pth) == True:\n",
    "        print(\"Folder structure already present\")\n",
    "    else:\n",
    "        arr=np.unique(T)\n",
    "        folder_structure(arr)"
   ]
  },
  {
   "cell_type": "code",
   "execution_count": 16,
   "id": "58c12d34-39a5-4386-a06e-81edd8a018f9",
   "metadata": {
    "id": "58c12d34-39a5-4386-a06e-81edd8a018f9"
   },
   "outputs": [],
   "source": [
    "def Image_Saver(X_train, y_train, ch):\n",
    "    pth = 'Data/math_symbols'\n",
    "    data_label_counts = collections.defaultdict(lambda : 0)\n",
    "    for i in range(len(X_train)):\n",
    "        ls2 = ['x', 'sqaure root', 'plus sign', 'negative sign', 'equal', 'precent', 'partial', 'product', 'pi',\n",
    "               'summation','others']\n",
    "        pth = 'Data/math_symbols/' + str(ch)\n",
    "        tmp = np.array(X_train[i])\n",
    "        img = np.reshape(tmp, (100, 100))\n",
    "        label = ls2[int(y_train[i])]\n",
    "        if y_train[i] == int(0):\n",
    "            pth = pth + '/' + label + '/' + str(data_label_counts[label]) + '.jpg'\n",
    "            cv2.imwrite(pth, img)\n",
    "        elif y_train[i] == int(1):\n",
    "            pth = pth + '/' + label + '/' + str(data_label_counts[label]) + '.jpg'\n",
    "            cv2.imwrite(pth, img)\n",
    "        elif y_train[i] == int(2):\n",
    "            pth = pth + '/' + label + '/' + str(data_label_counts[label]) + '.jpg'\n",
    "            cv2.imwrite(pth, img)\n",
    "        elif y_train[i] == int(3):\n",
    "            pth = pth + '/' + label + '/' + str(data_label_counts[label]) + '.jpg'\n",
    "            cv2.imwrite(pth, img)\n",
    "        elif y_train[i] == int(4):\n",
    "            pth = pth + '/' + label + '/' + str(data_label_counts[label]) + '.jpg'\n",
    "            cv2.imwrite(pth, img)\n",
    "        elif y_train[i] == int(5):\n",
    "            pth = pth + '/' + label + '/' + str(data_label_counts[label]) + '.jpg'\n",
    "            cv2.imwrite(pth, img)\n",
    "        elif y_train[i] == int(6):\n",
    "            pth = pth + '/' + label + '/' + str(data_label_counts[label]) + '.jpg'\n",
    "            cv2.imwrite(pth, img)\n",
    "        elif y_train[i] == int(7):\n",
    "            pth = pth + '/' + label + '/' + str(data_label_counts[label]) + '.jpg'\n",
    "            cv2.imwrite(pth, img)\n",
    "        elif y_train[i] == int(8):\n",
    "            pth = pth + '/' + label + '/' + str(data_label_counts[label]) + '.jpg'\n",
    "            cv2.imwrite(pth, img)\n",
    "        elif y_train[i] == int(9):\n",
    "            pth = pth + '/' + label + '/' + str(data_label_counts[label]) + '.jpg'\n",
    "            cv2.imwrite(pth, img)\n",
    "        elif y_train[i] == int(10):\n",
    "            pth = pth + '/' + label + '/' + str(data_label_counts[label]) + '.jpg'\n",
    "            cv2.imwrite(pth, img)\n",
    "\n",
    "        data_label_counts[label] += 1"
   ]
  },
  {
   "cell_type": "code",
   "execution_count": 17,
   "id": "2f4408e1-127b-484d-a714-eecf69ce85d8",
   "metadata": {
    "id": "2f4408e1-127b-484d-a714-eecf69ce85d8",
    "colab": {
     "base_uri": "https://localhost:8080/"
    },
    "outputId": "42207e29-a882-4226-858d-6d77a772ce41"
   },
   "outputs": [
    {
     "name": "stdout",
     "output_type": "stream",
     "text": [
      "Folder structure already present\n"
     ]
    }
   ],
   "source": [
    "folder_structure_cond(T)"
   ]
  },
  {
   "cell_type": "code",
   "execution_count": 18,
   "id": "a91127d4-e2f4-4787-b162-cb9624df152f",
   "metadata": {
    "id": "a91127d4-e2f4-4787-b162-cb9624df152f"
   },
   "outputs": [],
   "source": [
    "Image_Saver(X, T, ch='test')"
   ]
  },
  {
   "cell_type": "code",
   "execution_count": 19,
   "id": "f0c5c263-2bad-458f-908a-5c76a0630991",
   "metadata": {
    "id": "f0c5c263-2bad-458f-908a-5c76a0630991"
   },
   "outputs": [],
   "source": [
    "data_transformer = transforms.Compose([\n",
    "    transforms.ToTensor()\n",
    "])"
   ]
  },
  {
   "cell_type": "code",
   "execution_count": 20,
   "id": "9be1b3f9-16b4-4b3f-ab0d-686d7ff0a816",
   "metadata": {
    "id": "9be1b3f9-16b4-4b3f-ab0d-686d7ff0a816"
   },
   "outputs": [],
   "source": [
    "def imshow(inp, title):\n",
    "    \"\"\"Imshow for Tensor.\"\"\"\n",
    "    inp = inp.numpy().transpose((1, 2, 0))\n",
    "    plt.imshow(inp)\n",
    "    plt.title(title)\n",
    "    plt.show()"
   ]
  },
  {
   "cell_type": "code",
   "execution_count": 21,
   "id": "3754cfa3-7577-4471-b9bc-71ffd57f7731",
   "metadata": {
    "id": "3754cfa3-7577-4471-b9bc-71ffd57f7731"
   },
   "outputs": [],
   "source": [
    "PATH = './PGB-ResNet-101.pth'\n",
    "model = torch.load(PATH)"
   ]
  },
  {
   "cell_type": "code",
   "execution_count": 22,
   "id": "63a3aae5-f1f0-4a3a-8173-d27bb1d044a0",
   "metadata": {
    "id": "63a3aae5-f1f0-4a3a-8173-d27bb1d044a0",
    "outputId": "e37b4ec4-430b-46a3-f07f-136aa05f2dd4",
    "colab": {
     "base_uri": "https://localhost:8080/"
    }
   },
   "outputs": [
    {
     "name": "stdout",
     "output_type": "stream",
     "text": [
      "['equal', 'negative sign', 'others', 'partial', 'pi', 'plus sign', 'precent', 'product', 'sqaure root', 'summation', 'x']\n"
     ]
    }
   ],
   "source": [
    "data_dir = 'Data/math_symbols'\n",
    "\n",
    "image_dataset = datasets.ImageFolder(os.path.join(data_dir, 'test'), data_transformer)\n",
    "\n",
    "dataloader = torch.utils.data.DataLoader(image_dataset, batch_size=4, shuffle=True, num_workers=0)\n",
    "\n",
    "dataset_sizes = len(image_dataset)\n",
    "class_names = image_dataset.classes\n",
    "\n",
    "print(class_names)"
   ]
  },
  {
   "cell_type": "code",
   "execution_count": 23,
   "id": "7e13fb3c-e0ff-4129-9e73-b3b2d18d97f2",
   "metadata": {
    "id": "7e13fb3c-e0ff-4129-9e73-b3b2d18d97f2",
    "outputId": "cd3140c7-623a-43ca-fa76-938c0fb1bfe2",
    "colab": {
     "base_uri": "https://localhost:8080/",
     "height": 146
    }
   },
   "outputs": [
    {
     "data": {
      "text/plain": "<Figure size 640x480 with 1 Axes>",
      "image/png": "[encoded data removed]"
     },
     "metadata": {},
     "output_type": "display_data"
    }
   ],
   "source": [
    "# Get a batch of training data\n",
    "inputs, classes = next(iter(dataloader))\n",
    "\n",
    "# Make a grid from batch\n",
    "out = torchvision.utils.make_grid(inputs)\n",
    "\n",
    "imshow(out, title=[class_names[x] for x in classes])"
   ]
  },
  {
   "cell_type": "code",
   "execution_count": 24,
   "id": "93c54b87-b821-46eb-a5db-eba0c99a1bb9",
   "metadata": {
    "id": "93c54b87-b821-46eb-a5db-eba0c99a1bb9",
    "outputId": "6fcab5ad-e341-46e8-d373-5c9523d3b6da",
    "colab": {
     "base_uri": "https://localhost:8080/"
    }
   },
   "outputs": [
    {
     "name": "stdout",
     "output_type": "stream",
     "text": [
      "Validation Accuracy of the network for iteration 0: 100.0 %\n",
      "Validation Accuracy of the network for iteration 1: 100.0 %\n",
      "Validation Accuracy of the network for iteration 2: 100.0 %\n",
      "Validation Accuracy of the network for iteration 3: 100.0 %\n",
      "Validation Accuracy of the network for iteration 4: 100.0 %\n",
      "Validation Accuracy of the network for iteration 5: 100.0 %\n",
      "Validation Accuracy of the network for iteration 6: 100.0 %\n",
      "Validation Accuracy of the network for iteration 7: 100.0 %\n",
      "Validation Accuracy of the network for iteration 8: 100.0 %\n",
      "Validation Accuracy of the network for iteration 9: 100.0 %\n",
      "Validation Accuracy of the network for iteration 10: 100.0 %\n",
      "Validation Accuracy of the network for iteration 11: 100.0 %\n",
      "Validation Accuracy of the network for iteration 12: 100.0 %\n",
      "Validation Accuracy of the network for iteration 13: 100.0 %\n",
      "Validation Accuracy of the network for iteration 14: 100.0 %\n",
      "Validation Accuracy of the network for iteration 15: 100.0 %\n",
      "Validation Accuracy of the network for iteration 16: 100.0 %\n",
      "Validation Accuracy of the network for iteration 17: 100.0 %\n",
      "Validation Accuracy of the network for iteration 18: 100.0 %\n",
      "Validation Accuracy of the network for iteration 19: 100.0 %\n",
      "Validation Accuracy of the network for iteration 20: 100.0 %\n",
      "Validation Accuracy of the network for iteration 21: 100.0 %\n",
      "Validation Accuracy of the network for iteration 22: 100.0 %\n",
      "Validation Accuracy of the network for iteration 23: 100.0 %\n",
      "Validation Accuracy of the network for iteration 24: 100.0 %\n",
      "Validation Accuracy of the network for iteration 25: 100.0 %\n",
      "Validation Accuracy of the network for iteration 26: 100.0 %\n",
      "Validation Accuracy of the network for iteration 27: 100.0 %\n",
      "Validation Accuracy of the network for iteration 28: 100.0 %\n",
      "Validation Accuracy of the network for iteration 29: 100.0 %\n",
      "Validation Accuracy of the network for iteration 30: 100.0 %\n",
      "Validation Accuracy of the network for iteration 31: 100.0 %\n",
      "Validation Accuracy of the network for iteration 32: 100.0 %\n",
      "Validation Accuracy of the network for iteration 33: 100.0 %\n",
      "Validation Accuracy of the network for iteration 34: 100.0 %\n",
      "Validation Accuracy of the network for iteration 35: 100.0 %\n",
      "Validation Accuracy of the network for iteration 36: 100.0 %\n",
      "Validation Accuracy of the network for iteration 37: 100.0 %\n",
      "Validation Accuracy of the network for iteration 38: 100.0 %\n",
      "Validation Accuracy of the network for iteration 39: 100.0 %\n",
      "Validation Accuracy of the network for iteration 40: 100.0 %\n",
      "Validation Accuracy of the network for iteration 41: 100.0 %\n",
      "Validation Accuracy of the network for iteration 42: 100.0 %\n",
      "Validation Accuracy of the network for iteration 43: 100.0 %\n",
      "Validation Accuracy of the network for iteration 44: 100.0 %\n",
      "Validation Accuracy of the network for iteration 45: 100.0 %\n",
      "Validation Accuracy of the network for iteration 46: 100.0 %\n",
      "Validation Accuracy of the network for iteration 47: 100.0 %\n",
      "Validation Accuracy of the network for iteration 48: 100.0 %\n",
      "Validation Accuracy of the network for iteration 49: 100.0 %\n",
      "Validation Accuracy of the network for iteration 50: 100.0 %\n",
      "Validation Accuracy of the network for iteration 51: 100.0 %\n",
      "Validation Accuracy of the network for iteration 52: 100.0 %\n",
      "Validation Accuracy of the network for iteration 53: 100.0 %\n",
      "Validation Accuracy of the network for iteration 54: 75.0 %\n",
      "Validation Accuracy of the network for iteration 55: 100.0 %\n",
      "Validation Accuracy of the network for iteration 56: 100.0 %\n",
      "Validation Accuracy of the network for iteration 57: 100.0 %\n",
      "Validation Accuracy of the network for iteration 58: 100.0 %\n",
      "Validation Accuracy of the network for iteration 59: 100.0 %\n",
      "Validation Accuracy of the network for iteration 60: 100.0 %\n",
      "Validation Accuracy of the network for iteration 61: 100.0 %\n",
      "Validation Accuracy of the network for iteration 62: 100.0 %\n",
      "Validation Accuracy of the network for iteration 63: 100.0 %\n",
      "Validation Accuracy of the network for iteration 64: 100.0 %\n",
      "Validation Accuracy of the network for iteration 65: 100.0 %\n",
      "Validation Accuracy of the network for iteration 66: 100.0 %\n",
      "Validation Accuracy of the network for iteration 67: 100.0 %\n",
      "Validation Accuracy of the network for iteration 68: 100.0 %\n",
      "Validation Accuracy of the network for iteration 69: 100.0 %\n",
      "Validation Accuracy of the network for iteration 70: 100.0 %\n",
      "Validation Accuracy of the network for iteration 71: 100.0 %\n",
      "Validation Accuracy of the network for iteration 72: 100.0 %\n",
      "Validation Accuracy of the network for iteration 73: 100.0 %\n",
      "Validation Accuracy of the network for iteration 74: 100.0 %\n",
      "Validation Accuracy of the network for iteration 75: 100.0 %\n",
      "Validation Accuracy of the network for iteration 76: 100.0 %\n",
      "Validation Accuracy of the network for iteration 77: 100.0 %\n",
      "Validation Accuracy of the network for iteration 78: 100.0 %\n",
      "Validation Accuracy of the network for iteration 79: 100.0 %\n",
      "Validation Accuracy of the network for iteration 80: 100.0 %\n",
      "Validation Accuracy of the network for iteration 81: 100.0 %\n",
      "Validation Accuracy of the network for iteration 82: 100.0 %\n",
      "Validation Accuracy of the network for iteration 83: 100.0 %\n",
      "Validation Accuracy of the network for iteration 84: 100.0 %\n",
      "Validation Accuracy of the network for iteration 85: 100.0 %\n",
      "Validation Accuracy of the network for iteration 86: 100.0 %\n",
      "Validation Accuracy of the network for iteration 87: 100.0 %\n",
      "Validation Accuracy of the network for iteration 88: 100.0 %\n",
      "Validation Accuracy of the network for iteration 89: 100.0 %\n",
      "Validation Accuracy of the network for iteration 90: 100.0 %\n",
      "Validation Accuracy of the network for iteration 91: 100.0 %\n",
      "Validation Accuracy of the network for iteration 92: 100.0 %\n",
      "Validation Accuracy of the network for iteration 93: 100.0 %\n",
      "Validation Accuracy of the network for iteration 94: 100.0 %\n",
      "Validation Accuracy of the network for iteration 95: 100.0 %\n",
      "Validation Accuracy of the network for iteration 96: 100.0 %\n",
      "Validation Accuracy of the network for iteration 97: 100.0 %\n",
      "Validation Accuracy of the network for iteration 98: 100.0 %\n",
      "Validation Accuracy of the network for iteration 99: 100.0 %\n",
      "Average Validation Accuracy of the network 99.0\n"
     ]
    }
   ],
   "source": [
    "device = \"cpu\"\n",
    "model =model.to(\"cpu\")\n",
    "avg = []\n",
    "\n",
    "model.eval()  # Set model to evaluate mode\n",
    "iter = 0\n",
    "for inputs, labels in dataloader:\n",
    "    inputs = inputs.to(\"cpu\")\n",
    "    labels = labels.to(device)\n",
    "    outputs = model(inputs)\n",
    "    _, predicted = torch.max(outputs, 1)\n",
    "\n",
    "    labels = labels.to(device)\n",
    "    pred = predicted.to(device)\n",
    "    labels = labels.numpy()\n",
    "    pred = pred.numpy()\n",
    "    acc = 100.0 * accuracy_score(labels, pred)\n",
    "    avg.append(acc)\n",
    "    print('Validation Accuracy of the network for iteration {0}: {1} %'.format(iter, acc))\n",
    "    iter += 1\n",
    "print(\"Average Validation Accuracy of the network\", sum(avg) // iter)"
   ]
  },
  {
   "cell_type": "code",
   "execution_count": null,
   "outputs": [],
   "source": [],
   "metadata": {
    "collapsed": false
   }
  }
 ],
 "metadata": {
  "kernelspec": {
   "name": "python3",
   "language": "python",
   "display_name": "Python 3 (ipykernel)"
  },
  "language_info": {
   "codemirror_mode": {
    "name": "ipython",
    "version": 3
   },
   "file_extension": ".py",
   "mimetype": "text/x-python",
   "name": "python",
   "nbconvert_exporter": "python",
   "pygments_lexer": "ipython3",
   "version": "3.10.6"
  },
  "colab": {
   "provenance": []
  }
 },
 "nbformat": 4,
 "nbformat_minor": 5
}
